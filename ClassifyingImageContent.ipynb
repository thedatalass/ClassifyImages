{
 "cells": [
  {
   "cell_type": "code",
   "execution_count": 3,
   "metadata": {
    "collapsed": true
   },
   "outputs": [],
   "source": [
    "#Code snippets from \"Programming Computer Vision with Python:\n",
    "#Tools and Algorithms for Analyzing...\n",
    "\n",
    "from PIL import Image\n",
    "from numpy import *\n",
    "\n",
    "def pca(X):\n",
    "    \"\"\" Principle Component Analysis\n",
    "    input: X, matrix with training data stored as flattened arrays in rows\n",
    "    return: projection matrix (with important dimensions first), variance \n",
    "    and mean.\"\"\"\n",
    "\n",
    "    #get dimensions\n",
    "    num_data,dim = X.shape\n",
    "    \n",
    "    #center data\n",
    "    mean_X = X.mean(axis=0)\n",
    "    X = X - mean_X\n",
    "    \n",
    "    if dim>num_data:\n",
    "        #PCA - compact trick used\n",
    "        M = dot(X,X.T) #covariance matrix\n",
    "        e,EV = linalg.eigh(M) #eigenvalues and eigenvectors\n",
    "        tmp = dot(X.T,EV).T #this is the compact trick\n",
    "        V = tmp[::-1] #reverse since last eigenvectors are the ones we want\n",
    "        S = sqrt(e)[::-1] #reverse since eigenvalues are in increasing order\n",
    "        for i in range(V.shape[1]):\n",
    "            V[:,i] /= S\n",
    "    else:\n",
    "        #PCA - SVD used\n",
    "        U,S,V = linalg.svd(X)\n",
    "        V = V[:num_data] #only makes sense to return the first num_data\n",
    "    \n",
    "    #return the projection matrix, the variance and the mean\n",
    "    return V,S,mean_X"
   ]
  },
  {
   "cell_type": "code",
   "execution_count": 6,
   "metadata": {
    "collapsed": false
   },
   "outputs": [
    {
     "ename": "NameError",
     "evalue": "name 'imlist' is not defined",
     "output_type": "error",
     "traceback": [
      "\u001b[1;31m---------------------------------------------------------------------------\u001b[0m",
      "\u001b[1;31mNameError\u001b[0m                                 Traceback (most recent call last)",
      "\u001b[1;32m<ipython-input-6-272941f47d9d>\u001b[0m in \u001b[0;36m<module>\u001b[1;34m()\u001b[0m\n\u001b[0;32m      6\u001b[0m \u001b[1;33m\u001b[0m\u001b[0m\n\u001b[0;32m      7\u001b[0m \u001b[1;31m#open one image to get size\u001b[0m\u001b[1;33m\u001b[0m\u001b[1;33m\u001b[0m\u001b[0m\n\u001b[1;32m----> 8\u001b[1;33m \u001b[0mim\u001b[0m \u001b[1;33m=\u001b[0m \u001b[0marray\u001b[0m\u001b[1;33m(\u001b[0m\u001b[0mImage\u001b[0m\u001b[1;33m.\u001b[0m\u001b[0mopen\u001b[0m\u001b[1;33m(\u001b[0m\u001b[0mimlist\u001b[0m\u001b[1;33m[\u001b[0m\u001b[1;36m0\u001b[0m\u001b[1;33m]\u001b[0m\u001b[1;33m)\u001b[0m\u001b[1;33m)\u001b[0m\u001b[1;33m\u001b[0m\u001b[0m\n\u001b[0m\u001b[0;32m      9\u001b[0m \u001b[1;33m\u001b[0m\u001b[0m\n\u001b[0;32m     10\u001b[0m \u001b[1;31m#get the number of images\u001b[0m\u001b[1;33m\u001b[0m\u001b[1;33m\u001b[0m\u001b[0m\n",
      "\u001b[1;31mNameError\u001b[0m: name 'imlist' is not defined"
     ]
    }
   ],
   "source": [
    "#Font example rendered from publically available free fonts\n",
    "from PIL import Image\n",
    "from numpy import *\n",
    "from pylab import *\n",
    "from sklearn.decomposition import pca\n",
    "\n",
    "#open one image to get size\n",
    "im = array(Image.open(imlist[0]))\n",
    "\n",
    "#get the number of images\n",
    "imnbr = len(imlist)\n",
    "\n",
    "#create matrix to store all flattened images\n",
    "inmatrix = array([array(Image.open(im)).flatten()\n",
    "                 for im in imlist], 'f')\n",
    "\n",
    "#perform PCA\n",
    "V,S,immean = pca.pca(inmmatrix)\n",
    "\n",
    "#show some images (mean and 7 first modes)\n",
    "figure()\n",
    "gray()\n",
    "subplot(2,4,1)\n",
    "imshow(immean.reshape(m,n))\n",
    "for i in range(7):\n",
    "    subplot(2,4,i+2)\n",
    "    imshow(V[i].reshape(m,n))\n",
    "\n",
    "show()"
   ]
  }
 ],
 "metadata": {
  "kernelspec": {
   "display_name": "Python 3",
   "language": "python",
   "name": "python3"
  },
  "language_info": {
   "codemirror_mode": {
    "name": "ipython",
    "version": 3
   },
   "file_extension": ".py",
   "mimetype": "text/x-python",
   "name": "python",
   "nbconvert_exporter": "python",
   "pygments_lexer": "ipython3",
   "version": "3.5.1"
  }
 },
 "nbformat": 4,
 "nbformat_minor": 0
}
